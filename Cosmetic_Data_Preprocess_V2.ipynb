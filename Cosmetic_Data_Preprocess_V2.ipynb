{
  "nbformat": 4,
  "nbformat_minor": 0,
  "metadata": {
    "colab": {
      "name": "Cosmetic_Data_Preprocess_V2.ipynb",
      "provenance": [],
      "collapsed_sections": [],
      "authorship_tag": "ABX9TyOxge6rCwfBoBepjdyUmGxS",
      "include_colab_link": true
    },
    "kernelspec": {
      "name": "python3",
      "display_name": "Python 3"
    },
    "language_info": {
      "name": "python"
    }
  },
  "cells": [
    {
      "cell_type": "markdown",
      "metadata": {
        "id": "view-in-github",
        "colab_type": "text"
      },
      "source": [
        "<a href=\"https://colab.research.google.com/github/Cutlets/CSV_PP/blob/main/Cosmetic_Data_Preprocess_V2.ipynb\" target=\"_parent\"><img src=\"https://colab.research.google.com/assets/colab-badge.svg\" alt=\"Open In Colab\"/></a>"
      ]
    },
    {
      "cell_type": "markdown",
      "metadata": {
        "id": "5ybpaYKgGoMK"
      },
      "source": [
        "# Recod 전성분 전처리기"
      ]
    },
    {
      "cell_type": "code",
      "metadata": {
        "id": "nuNPrFskFePe"
      },
      "source": [
        "# 모듈 목록\n",
        "import pandas as pd\n",
        "import numpy as np\n",
        "import io\n",
        "import re\n",
        "from random import *"
      ],
      "execution_count": 1,
      "outputs": []
    },
    {
      "cell_type": "code",
      "metadata": {
        "id": "Co_RnMD-JQ1X"
      },
      "source": [
        "# 정규화 함수\n",
        "def re_data(tgr):\n",
        "  modtext = tgr\n",
        "\n",
        "  # 단순 제거\n",
        "  p = [] # 정규식\n",
        "\n",
        "  p.append('^\\-') # 맨 앞 하이픈 처리\n",
        "  p.append('(\\d|\\.)+\\%\\s*') # x% 처리\n",
        "  p.append('\\™|\\*|\\®') # 특수문자 제거\n",
        "  p.append('\\-?.*Division\\:.*Ingredients\\:\\s') # 에스티로더 라벨 제거\n",
        "\n",
        "  for i in range(0, len(p)):\n",
        "    modtext = re.sub(re.compile(p[i]), \"\", modtext)\n",
        "\n",
        "  # 문자 치환\n",
        "  p2 = [] # 정규식\n",
        "  p3 = [] # 치환할 내용\n",
        "\n",
        "  #괄호 먼저 제거\n",
        "  p2.append('\\s*(\\(|\\]).*?(\\)|\\])\\s*')\n",
        "  p3.append(' ')\n",
        "\n",
        "  p2.append('(\\s\\-)|(\\,\\-)') # 하이픈 처리\n",
        "  p3.append(',')\n",
        "\n",
        "  p2.append('\\-\\s') # 하이픈처리2\n",
        "  p3.append('\\-')\n",
        "\n",
        "  p2.append('\\sand\\s') # and 처리\n",
        "  p3.append(', ')\n",
        "\n",
        "  p2.append('\\:(\\w|\\s|\\,|\\-)*\\.') # :로 일반적인 설명 하는 경우\n",
        "  p3.append(', ')\n",
        "\n",
        "  p2.append('\\/\\s*') # /(슬래시) 처리\n",
        "  p3.append('_')\n",
        "\n",
        "  p2.append('(?P<fn>\\d+)\\,(?P<sn>\\d+)') # 화합물 숫자 처리 1\n",
        "  p3.append('\\g<fn>-\\g<sn>')\n",
        "\n",
        "  p2.append('(\\s|\\.)\\,') # 특수문자 반복 처리 1\n",
        "  p3.append(',')\n",
        "\n",
        "  p2.append('\\,\\,') # 특수문자 반복 처리 2\n",
        "  p3.append(',')\n",
        "\n",
        "  p2.append('\\s\\s') # 이중공백 처리\n",
        "  p3.append('s')\n",
        "\n",
        "  for i in range(0, len(p2)):\n",
        "    modtext = re.sub(re.compile(p2[i]), p3[i], modtext)\n",
        "\n",
        "  # NaN 처리\n",
        "  p4 = [] # 정규식\n",
        "\n",
        "  p4.append('^Visit.*')\n",
        "  p4.append('^No Info.*')\n",
        "  p4.append('\\#NAME\\?')\n",
        "  p4.append('^REN.*')\n",
        "\n",
        "  for i in range(0, len(p4)):\n",
        "    modtext = re.sub(re.compile(p4[i]), 'NaN', modtext)\n",
        "\n",
        "  # 공백 제거\n",
        "  modtext = re.sub(re.compile('\\s'), \"\", modtext)\n",
        "\n",
        "  return modtext"
      ],
      "execution_count": 8,
      "outputs": []
    },
    {
      "cell_type": "code",
      "metadata": {
        "id": "OVzitYGzHBnH"
      },
      "source": [
        "# 파일은 Github에서 가져옵니다.\n",
        "# 가져온 데이터는 c_data에 저장\n",
        "url = 'https://raw.githubusercontent.com/Cutlets/CSV_PP/main/cosmetics_original.csv'\n",
        "c_data = pd.read_csv(url)\n",
        "\n",
        "# 확인용\n",
        "# print(c_data)\n"
      ],
      "execution_count": 9,
      "outputs": []
    },
    {
      "cell_type": "code",
      "metadata": {
        "id": "cL1MWbqQIQW7"
      },
      "source": [
        "# 전처리를 진행할 인덱스를 선택합니다\n",
        "# 샘플 데이터의 인덱스는 Ingredients 입니다.\n",
        "# select_index = input('전처리를 진행할 성분을 포함한 인덱스 이름 : ')\n",
        "select_index = 'Ingredients'\n",
        "c_len = len(c_data.index)\n",
        "# 테스트용\n",
        "k = 0\n",
        "# c_len = 5\n",
        "\n",
        "for i in range(k, k + c_len):\n",
        "  target_data = c_data.loc[:, [select_index]]\n",
        "  target_text = target_data.iloc[i][0]\n",
        "  # print('=========')\n",
        "  # print(target_text)\n",
        "  # print('---------')\n",
        "  mod_text = re_data(target_text)\n",
        "  # print(mod_text)\n",
        "  # print('=========')\n",
        "  if mod_text == \"NaN\":\n",
        "    c_data.loc[i, select_index] = np.nan\n",
        "  else:\n",
        "    c_data.loc[i, select_index] = mod_text\n",
        "\n",
        "m_cosdata = c_data.dropna()"
      ],
      "execution_count": 10,
      "outputs": []
    },
    {
      "cell_type": "code",
      "metadata": {
        "colab": {
          "base_uri": "https://localhost:8080/"
        },
        "id": "LqpcPmvpJuZ_",
        "outputId": "a53d0233-2aa3-4ece-d7d7-6f658644e332"
      },
      "source": [
        "# 내보내기를 진행할건지 확인받음\n",
        "isImport = int(input('내보내기를 진행하려면 1을 입력해주세요 : '))\n",
        "if isImport == 1:\n",
        "  print('CSV로 내보내는 중...')\n",
        "  # CSV 형식으로 구분자는 ,로 표현하여 내보냄\n",
        "  m_cosdata.to_csv('cosmetics_modified.csv', sep=',', encoding = 'UTF-8')\n",
        "  print('CSV로 내보내기를 진행하였습니다.')\n",
        "else:\n",
        "  print('내보내기를 진행하지 않았습니다.')\n",
        "\n",
        "#내보낸 파일이름은 'cosmetics_modified.csv' 입니다."
      ],
      "execution_count": 11,
      "outputs": [
        {
          "output_type": "stream",
          "text": [
            "내보내기를 진행하려면 1을 입력해주세요 : 1\n",
            "CSV로 내보내는 중...\n",
            "CSV로 내보내기를 진행하였습니다.\n"
          ],
          "name": "stdout"
        }
      ]
    }
  ]
}