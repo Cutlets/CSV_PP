{
  "nbformat": 4,
  "nbformat_minor": 0,
  "metadata": {
    "colab": {
      "name": "Cosmetic_Data_Preprocess_V1.ipynb",
      "provenance": [],
      "collapsed_sections": [],
      "authorship_tag": "ABX9TyMJ/6EIo6l/ZU/MpKhUYxDf",
      "include_colab_link": true
    },
    "kernelspec": {
      "name": "python3",
      "display_name": "Python 3"
    },
    "language_info": {
      "name": "python"
    }
  },
  "cells": [
    {
      "cell_type": "markdown",
      "metadata": {
        "id": "view-in-github",
        "colab_type": "text"
      },
      "source": [
        "<a href=\"https://colab.research.google.com/github/Cutlets/CSV_PP/blob/main/Cosmetic_Data_Preprocess_V1.ipynb\" target=\"_parent\"><img src=\"https://colab.research.google.com/assets/colab-badge.svg\" alt=\"Open In Colab\"/></a>"
      ]
    },
    {
      "cell_type": "markdown",
      "metadata": {
        "id": "5ybpaYKgGoMK"
      },
      "source": [
        "# Recod 전성분 전처리기"
      ]
    },
    {
      "cell_type": "code",
      "metadata": {
        "id": "nuNPrFskFePe"
      },
      "source": [
        "# 모듈 목록\n",
        "import pandas as pd\n",
        "import numpy as np\n",
        "import io\n",
        "import re"
      ],
      "execution_count": 2,
      "outputs": []
    },
    {
      "cell_type": "code",
      "metadata": {
        "id": "Co_RnMD-JQ1X"
      },
      "source": [
        "# 정규화 함수\n",
        "def re_data(tgr, p):\n",
        "  pass"
      ],
      "execution_count": null,
      "outputs": []
    },
    {
      "cell_type": "code",
      "metadata": {
        "id": "OVzitYGzHBnH"
      },
      "source": [
        "# 파일은 Github에서 가져옵니다.\n",
        "# 가져온 데이터는 c_data에 저장\n",
        "url = 'https://raw.githubusercontent.com/Cutlets/CSV_PP/main/cosmetics_original.csv' \n",
        "c_data = pd.read_csv(url)\n",
        "\n",
        "# 확인용\n",
        "# print(c_data)\n"
      ],
      "execution_count": null,
      "outputs": []
    },
    {
      "cell_type": "code",
      "metadata": {
        "colab": {
          "base_uri": "https://localhost:8080/"
        },
        "id": "cL1MWbqQIQW7",
        "outputId": "a9c3df04-8f9b-4774-df44-bd27dd15ad19"
      },
      "source": [
        "# 전처리를 진행할 인덱스를 선택합니다\n",
        "# 샘플 데이터의 인덱스는 Ingredients 입니다.\n",
        "select_index = input('전처리를 진행할 성분을 포함한 인덱스 이름 : ')\n",
        "c_len = len(c_data.index)\n",
        "\n",
        "for i in range(0, c_len):\n",
        "  target_data = c_data.loc[:, [select_index]]\n",
        "  target_text = target_data.iloc[i][0]\n",
        "  #print(target_text)\n",
        "\n",
        "m_cosdata = c_data.dropna()"
      ],
      "execution_count": 11,
      "outputs": [
        {
          "output_type": "stream",
          "text": [
            "전처리를 진행할 성분을 포함한 인덱스 이름 : Ingredients\n"
          ],
          "name": "stdout"
        }
      ]
    },
    {
      "cell_type": "code",
      "metadata": {
        "colab": {
          "base_uri": "https://localhost:8080/"
        },
        "id": "LqpcPmvpJuZ_",
        "outputId": "bbf5203b-1cf5-49be-c530-dedca36b87c7"
      },
      "source": [
        "# 내보내기를 진행할건지 확인받음\n",
        "isImport = int(input('내보내기를 진행하려면 1을 입력해주세요 : '))\n",
        "if isImport == 1:\n",
        "  print('CSV로 내보내는 중...')\n",
        "  # CSV 형식으로 구분자는 ,로 표현하여 내보냄\n",
        "  m_cosdata.to_csv('cosmetics_modified.csv', sep=',', encoding = 'UTF-8')\n",
        "  print('CSV로 내보내기를 진행하였습니다.')\n",
        "else:\n",
        "  print('내보내기를 진행하지 않았습니다.')\n",
        "\n",
        "#내보낸 파일이름은 'cosmetics_modified.csv' 입니다."
      ],
      "execution_count": 12,
      "outputs": [
        {
          "output_type": "stream",
          "text": [
            "내보내기를 진행하려면 1을 입력해주세요 : 1\n",
            "CSV로 내보내는 중...\n",
            "CSV로 내보내기를 진행하였습니다.\n"
          ],
          "name": "stdout"
        }
      ]
    }
  ]
}